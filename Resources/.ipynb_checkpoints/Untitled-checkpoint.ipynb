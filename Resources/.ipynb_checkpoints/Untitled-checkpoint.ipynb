{
 "cells": [
  {
   "cell_type": "code",
   "execution_count": 4,
   "id": "c2675f42",
   "metadata": {},
   "outputs": [],
   "source": [
    "import sys\n",
    "import psycopg2\n",
    "import sqlite3\n",
    "from config import password"
   ]
  },
  {
   "cell_type": "code",
   "execution_count": 18,
   "id": "2a6c75a9",
   "metadata": {},
   "outputs": [],
   "source": [
    "# Create sqlite db\n",
    "sqliteConnection = sqlite3.connect(\"stellar_classification.db\")\n",
    "sqliteCursor = sqliteConnection.cursor()\n",
    "# ref: https://www.prudentdevs.club/pg-to-sqlite\n",
    "sqliteConnection.text_factory = lambda x:unicode(x, \"utf-8\", \"ignore\")"
   ]
  },
  {
   "cell_type": "code",
   "execution_count": 19,
   "id": "5024517a",
   "metadata": {},
   "outputs": [],
   "source": [
    "# Connect to postgresql\n",
    "pgConnectString = \"host='localhost' dbname='Stellar_Classification' user='postgres' password='SQLpass!'\"\n",
    "pgConnection=psycopg2.connect(pgConnectString)\n",
    "pgCursor = pgConnection.cursor()"
   ]
  },
  {
   "cell_type": "code",
   "execution_count": 20,
   "id": "54cd2a4e",
   "metadata": {},
   "outputs": [],
   "source": [
    "# Select from table\n",
    "pgCursor.execute(\"SELECT * FROM stellar\")\n",
    "rows = pgCursor.fetchall()"
   ]
  },
  {
   "cell_type": "code",
   "execution_count": 21,
   "id": "406ce93b",
   "metadata": {},
   "outputs": [
    {
     "ename": "OperationalError",
     "evalue": "no such table: stellar",
     "output_type": "error",
     "traceback": [
      "\u001b[1;31m---------------------------------------------------------------------------\u001b[0m",
      "\u001b[1;31mOperationalError\u001b[0m                          Traceback (most recent call last)",
      "\u001b[1;32m~\\AppData\\Local\\Temp/ipykernel_22212/3387868428.py\u001b[0m in \u001b[0;36m<module>\u001b[1;34m\u001b[0m\n\u001b[0;32m      1\u001b[0m \u001b[1;31m# Loop through rows and insert into sqlite\u001b[0m\u001b[1;33m\u001b[0m\u001b[1;33m\u001b[0m\u001b[1;33m\u001b[0m\u001b[0m\n\u001b[0;32m      2\u001b[0m \u001b[1;32mfor\u001b[0m \u001b[0mrow\u001b[0m \u001b[1;32min\u001b[0m \u001b[0mrows\u001b[0m\u001b[1;33m:\u001b[0m\u001b[1;33m\u001b[0m\u001b[1;33m\u001b[0m\u001b[0m\n\u001b[1;32m----> 3\u001b[1;33m     \u001b[0msqliteCursor\u001b[0m\u001b[1;33m.\u001b[0m\u001b[0mexecute\u001b[0m\u001b[1;33m(\u001b[0m\u001b[1;34m\"INSERT INTO stellar (id, title) VALUES (:id, :title)\"\u001b[0m\u001b[1;33m,\u001b[0m \u001b[1;33m{\u001b[0m\u001b[1;34m\"id\"\u001b[0m\u001b[1;33m:\u001b[0m \u001b[0mrow\u001b[0m\u001b[1;33m[\u001b[0m\u001b[1;36m0\u001b[0m\u001b[1;33m]\u001b[0m\u001b[1;33m,\u001b[0m \u001b[1;34m\"title\"\u001b[0m\u001b[1;33m:\u001b[0m \u001b[0mrow\u001b[0m\u001b[1;33m[\u001b[0m\u001b[1;36m1\u001b[0m\u001b[1;33m]\u001b[0m\u001b[1;33m}\u001b[0m\u001b[1;33m)\u001b[0m\u001b[1;33m\u001b[0m\u001b[1;33m\u001b[0m\u001b[0m\n\u001b[0m\u001b[0;32m      4\u001b[0m     \u001b[0msqliteConnection\u001b[0m\u001b[1;33m.\u001b[0m\u001b[0mcommit\u001b[0m\u001b[1;33m(\u001b[0m\u001b[1;33m)\u001b[0m\u001b[1;33m\u001b[0m\u001b[1;33m\u001b[0m\u001b[0m\n",
      "\u001b[1;31mOperationalError\u001b[0m: no such table: stellar"
     ]
    }
   ],
   "source": [
    "# Loop through rows and insert into sqlite\n",
    "for row in rows:\n",
    "    sqliteCursor.execute(\"INSERT INTO stellar (id, title) VALUES (:id, :title)\", {\"id\": row[0], \"title\": row[1]})\n",
    "    sqliteConnection.commit()"
   ]
  },
  {
   "cell_type": "code",
   "execution_count": null,
   "id": "1933490a",
   "metadata": {},
   "outputs": [],
   "source": []
  }
 ],
 "metadata": {
  "kernelspec": {
   "display_name": "mlenv",
   "language": "python",
   "name": "mlenv"
  },
  "language_info": {
   "codemirror_mode": {
    "name": "ipython",
    "version": 3
   },
   "file_extension": ".py",
   "mimetype": "text/x-python",
   "name": "python",
   "nbconvert_exporter": "python",
   "pygments_lexer": "ipython3",
   "version": "3.7.11"
  }
 },
 "nbformat": 4,
 "nbformat_minor": 5
}
